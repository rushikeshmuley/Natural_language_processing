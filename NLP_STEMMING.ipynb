{
  "nbformat": 4,
  "nbformat_minor": 0,
  "metadata": {
    "colab": {
      "provenance": []
    },
    "kernelspec": {
      "name": "python3",
      "display_name": "Python 3"
    },
    "language_info": {
      "name": "python"
    }
  },
  "cells": [
    {
      "cell_type": "code",
      "execution_count": 1,
      "metadata": {
        "id": "qUhwHIdDckc4"
      },
      "outputs": [],
      "source": [
        "import nltk\n",
        "from nltk.stem.porter import *"
      ]
    },
    {
      "cell_type": "code",
      "source": [
        "stemming =PorterStemmer()"
      ],
      "metadata": {
        "id": "V-tRnDUadUik"
      },
      "execution_count": 2,
      "outputs": []
    },
    {
      "cell_type": "code",
      "source": [
        "words=['run','runs','running','ran','easily','fairly','easy','fair','history','historical']"
      ],
      "metadata": {
        "id": "QTj_aCI5deUV"
      },
      "execution_count": 3,
      "outputs": []
    },
    {
      "cell_type": "markdown",
      "source": [
        "stemming"
      ],
      "metadata": {
        "id": "q2xU0v9ZeOL8"
      }
    },
    {
      "cell_type": "code",
      "source": [
        "for word in words:\n",
        "  print(word + '----->'+ stemming.stem(word))\n"
      ],
      "metadata": {
        "colab": {
          "base_uri": "https://localhost:8080/"
        },
        "id": "SIdy2IffeANf",
        "outputId": "9465b148-bc86-4dd4-db65-10490a6daa2d"
      },
      "execution_count": 4,
      "outputs": [
        {
          "output_type": "stream",
          "name": "stdout",
          "text": [
            "run----->run\n",
            "runs----->run\n",
            "running----->run\n",
            "ran----->ran\n",
            "easily----->easili\n",
            "fairly----->fairli\n",
            "easy----->easi\n",
            "fair----->fair\n",
            "history----->histori\n",
            "historical----->histor\n"
          ]
        }
      ]
    },
    {
      "cell_type": "code",
      "source": [
        "sentence=\"After two and a half months of widespread and continuing violence in Manipur, which included a conflagration in early May, Prime Minister Narendra Modi finally broke his silence, after video images of tribal women being paraded naked in Thoubal district on May 4 once again showed up the heinous nature of the conflict in the State. But Mr. Modi is yet to acknowledge the causes and the consequences of the conflict that is threatening to spiral out of control. The Supreme Court of India’s suo motu cognisance of the sexual assault seen in the video and its issuance of ultimatums to both the Union and the State governments to bring the perpetrators to book or to step aside and let the judiciary take action are a stinging indictment of their failure in restoring normalcy in Manipur. After outrage expressed by Members of Parliament and political representatives cutting across party lines, Mr. Modi, who has maintained a conspicuous and unexplained silence on the raging violence in Manipur, weighed in on the crime and promised punishment of the guilty. For a leader who has always sought the limelight and the need to dominate the airwaves, Mr. Modi’s stand on the Manipur violence till now had betrayed an insouciant attitude towards the crisis in the State. The renewed attention on the Manipur conflict has finally led the State government to promise that it will bring the perpetrators to book, but the events of the last two and a half months reveal a significant gulf between the Meitei and the Kuki-Zo communities. Steps towards reconciliation would require much better leadership than what the much touted “double engine” government of the Bharatiya Janata Party (BJP) has offered so faDespite Home Minister Amit Shah’s visit to Manipur in late May in the aftermath of the conflagration, there has been little movement on getting the displaced people back to their homes or ensuring a reduction in ethnic hostility; sporadic incidents of violence continue to roil the State. Manipur Chief Minister N. Biren Singh’s policies and utterances have shown that he is unable to rise above identitarian politics. The Kuki community sees him as part of the problem. The BJP too is divided on ethnic lines. If the sequence of events leading up to this situation and the festering ethnic hostility are anything to go by, it should be clear that Mr. Singh’s continuation as the Chief Minister is untenable. But the BJP seems loath to antagonise Meitei majoritarians whose support allows Mr. Singh to retain power. While Mr. Singh’s government has finally sought to take action against the crime committed on May 4, by arresting four men following the outrage, more needs to be done to reverse the hostile situation. Replacing Mr. Singh with a less controversial leader would allow for civil society representatives from the different ethnicities to begin reconciliation and peace initiatives in earnest.\""
      ],
      "metadata": {
        "id": "wv-Koq2seTKs"
      },
      "execution_count": 5,
      "outputs": []
    },
    {
      "cell_type": "code",
      "source": [
        "from nltk.corpus import stopwords\n",
        "import nltk\n",
        "nltk.download('punkt')"
      ],
      "metadata": {
        "colab": {
          "base_uri": "https://localhost:8080/"
        },
        "id": "g6fPSh3PfFiG",
        "outputId": "eec0473d-f527-4620-e134-5494d0ed81c4"
      },
      "execution_count": 6,
      "outputs": [
        {
          "output_type": "stream",
          "name": "stderr",
          "text": [
            "[nltk_data] Downloading package punkt to /root/nltk_data...\n",
            "[nltk_data]   Package punkt is already up-to-date!\n"
          ]
        },
        {
          "output_type": "execute_result",
          "data": {
            "text/plain": [
              "True"
            ]
          },
          "metadata": {},
          "execution_count": 6
        }
      ]
    },
    {
      "cell_type": "code",
      "source": [
        "my_review =nltk.sent_tokenize(sentence)"
      ],
      "metadata": {
        "id": "7JJEyxX6fl2C"
      },
      "execution_count": 7,
      "outputs": []
    },
    {
      "cell_type": "code",
      "source": [
        "my_review"
      ],
      "metadata": {
        "colab": {
          "base_uri": "https://localhost:8080/"
        },
        "id": "jORH0A5_fr4r",
        "outputId": "d878541d-310e-4920-b5fb-4b7d667580c3"
      },
      "execution_count": 8,
      "outputs": [
        {
          "output_type": "execute_result",
          "data": {
            "text/plain": [
              "['After two and a half months of widespread and continuing violence in Manipur, which included a conflagration in early May, Prime Minister Narendra Modi finally broke his silence, after video images of tribal women being paraded naked in Thoubal district on May 4 once again showed up the heinous nature of the conflict in the State.',\n",
              " 'But Mr. Modi is yet to acknowledge the causes and the consequences of the conflict that is threatening to spiral out of control.',\n",
              " 'The Supreme Court of India’s suo motu cognisance of the sexual assault seen in the video and its issuance of ultimatums to both the Union and the State governments to bring the perpetrators to book or to step aside and let the judiciary take action are a stinging indictment of their failure in restoring normalcy in Manipur.',\n",
              " 'After outrage expressed by Members of Parliament and political representatives cutting across party lines, Mr. Modi, who has maintained a conspicuous and unexplained silence on the raging violence in Manipur, weighed in on the crime and promised punishment of the guilty.',\n",
              " 'For a leader who has always sought the limelight and the need to dominate the airwaves, Mr. Modi’s stand on the Manipur violence till now had betrayed an insouciant attitude towards the crisis in the State.',\n",
              " 'The renewed attention on the Manipur conflict has finally led the State government to promise that it will bring the perpetrators to book, but the events of the last two and a half months reveal a significant gulf between the Meitei and the Kuki-Zo communities.',\n",
              " 'Steps towards reconciliation would require much better leadership than what the much touted “double engine” government of the Bharatiya Janata Party (BJP) has offered so faDespite Home Minister Amit Shah’s visit to Manipur in late May in the aftermath of the conflagration, there has been little movement on getting the displaced people back to their homes or ensuring a reduction in ethnic hostility; sporadic incidents of violence continue to roil the State.',\n",
              " 'Manipur Chief Minister N. Biren Singh’s policies and utterances have shown that he is unable to rise above identitarian politics.',\n",
              " 'The Kuki community sees him as part of the problem.',\n",
              " 'The BJP too is divided on ethnic lines.',\n",
              " 'If the sequence of events leading up to this situation and the festering ethnic hostility are anything to go by, it should be clear that Mr. Singh’s continuation as the Chief Minister is untenable.',\n",
              " 'But the BJP seems loath to antagonise Meitei majoritarians whose support allows Mr. Singh to retain power.',\n",
              " 'While Mr. Singh’s government has finally sought to take action against the crime committed on May 4, by arresting four men following the outrage, more needs to be done to reverse the hostile situation.',\n",
              " 'Replacing Mr. Singh with a less controversial leader would allow for civil society representatives from the different ethnicities to begin reconciliation and peace initiatives in earnest.']"
            ]
          },
          "metadata": {},
          "execution_count": 8
        }
      ]
    },
    {
      "cell_type": "code",
      "source": [
        "# applying stopwords to remove and then stemming"
      ],
      "metadata": {
        "id": "mTDc9d06f3PC"
      },
      "execution_count": 9,
      "outputs": []
    },
    {
      "cell_type": "code",
      "source": [
        "stemming=PorterStemmer()\n",
        "\n"
      ],
      "metadata": {
        "id": "e2wMePzLgHPA"
      },
      "execution_count": 10,
      "outputs": []
    },
    {
      "cell_type": "code",
      "source": [
        " import nltk\n",
        " nltk.download('stopwords')"
      ],
      "metadata": {
        "colab": {
          "base_uri": "https://localhost:8080/"
        },
        "id": "xQxVQLEjkiKB",
        "outputId": "390741d7-6607-452f-d29d-21683d4dea5a"
      },
      "execution_count": 11,
      "outputs": [
        {
          "output_type": "stream",
          "name": "stderr",
          "text": [
            "[nltk_data] Downloading package stopwords to /root/nltk_data...\n",
            "[nltk_data]   Package stopwords is already up-to-date!\n"
          ]
        },
        {
          "output_type": "execute_result",
          "data": {
            "text/plain": [
              "True"
            ]
          },
          "metadata": {},
          "execution_count": 11
        }
      ]
    },
    {
      "cell_type": "code",
      "source": [
        "for i in range(len(my_review)):\n",
        "  words=nltk.word_tokenize(my_review[i])\n",
        "  words=[stemming.stem(word) for word in words if word not in set(stopwords.words('english'))]\n",
        "  my_review[i]=' '.join(words)"
      ],
      "metadata": {
        "id": "aJT84WV1jq4c"
      },
      "execution_count": 12,
      "outputs": []
    },
    {
      "cell_type": "code",
      "source": [
        "my_review"
      ],
      "metadata": {
        "colab": {
          "base_uri": "https://localhost:8080/"
        },
        "id": "kGPNzQu_kdSq",
        "outputId": "35e90db6-e98c-420d-fcec-c03c23b0b74d"
      },
      "execution_count": 13,
      "outputs": [
        {
          "output_type": "execute_result",
          "data": {
            "text/plain": [
              "['after two half month widespread continu violenc manipur , includ conflagr earli may , prime minist narendra modi final broke silenc , video imag tribal women parad nake thoubal district may 4 show heinou natur conflict state .',\n",
              " 'but mr. modi yet acknowledg caus consequ conflict threaten spiral control .',\n",
              " 'the suprem court india ’ suo motu cognis sexual assault seen video issuanc ultimatum union state govern bring perpetr book step asid let judiciari take action sting indict failur restor normalci manipur .',\n",
              " 'after outrag express member parliament polit repres cut across parti line , mr. modi , maintain conspicu unexplain silenc rage violenc manipur , weigh crime promis punish guilti .',\n",
              " 'for leader alway sought limelight need domin airwav , mr. modi ’ stand manipur violenc till betray insouci attitud toward crisi state .',\n",
              " 'the renew attent manipur conflict final led state govern promis bring perpetr book , event last two half month reveal signific gulf meitei kuki-zo commun .',\n",
              " 'step toward reconcili would requir much better leadership much tout “ doubl engin ” govern bharatiya janata parti ( bjp ) offer fadespit home minist amit shah ’ visit manipur late may aftermath conflagr , littl movement get displac peopl back home ensur reduct ethnic hostil ; sporad incid violenc continu roil state .',\n",
              " 'manipur chief minist n. biren singh ’ polici utter shown unabl rise identitarian polit .',\n",
              " 'the kuki commun see part problem .',\n",
              " 'the bjp divid ethnic line .',\n",
              " 'if sequenc event lead situat fester ethnic hostil anyth go , clear mr. singh ’ continu chief minist unten .',\n",
              " 'but bjp seem loath antagonis meitei majoritarian whose support allow mr. singh retain power .',\n",
              " 'while mr. singh ’ govern final sought take action crime commit may 4 , arrest four men follow outrag , need done revers hostil situat .',\n",
              " 'replac mr. singh less controversi leader would allow civil societi repres differ ethnic begin reconcili peac initi earnest .']"
            ]
          },
          "metadata": {},
          "execution_count": 13
        }
      ]
    },
    {
      "cell_type": "code",
      "source": [
        "# Lemmatization"
      ],
      "metadata": {
        "id": "Sn1uJD5pkqdc"
      },
      "execution_count": 14,
      "outputs": []
    },
    {
      "cell_type": "code",
      "source": [
        "words=['run','runs','running','ran','easily','fairly','easy','fair','history','historical']"
      ],
      "metadata": {
        "id": "HIemWbK6l3wh"
      },
      "execution_count": 15,
      "outputs": []
    },
    {
      "cell_type": "code",
      "source": [
        "from nltk.stem import WordNetLemmatizer\n"
      ],
      "metadata": {
        "id": "YktusSRUl8c9"
      },
      "execution_count": 16,
      "outputs": []
    },
    {
      "cell_type": "code",
      "source": [
        "\n",
        "  import nltk\n",
        "  nltk.download('wordnet')"
      ],
      "metadata": {
        "colab": {
          "base_uri": "https://localhost:8080/"
        },
        "id": "dyY74Xk8mr5D",
        "outputId": "5ae6614d-3a7c-442c-d653-bf1f939a4282"
      },
      "execution_count": 17,
      "outputs": [
        {
          "output_type": "stream",
          "name": "stderr",
          "text": [
            "[nltk_data] Downloading package wordnet to /root/nltk_data...\n",
            "[nltk_data]   Package wordnet is already up-to-date!\n"
          ]
        },
        {
          "output_type": "execute_result",
          "data": {
            "text/plain": [
              "True"
            ]
          },
          "metadata": {},
          "execution_count": 17
        }
      ]
    },
    {
      "cell_type": "code",
      "source": [
        "lemm= WordNetLemmatizer()"
      ],
      "metadata": {
        "id": "aXCN7hAJmR8B"
      },
      "execution_count": 18,
      "outputs": []
    },
    {
      "cell_type": "code",
      "source": [
        "for word in words:\n",
        "  print(word +'--->'+lemm.lemmatize(word))"
      ],
      "metadata": {
        "colab": {
          "base_uri": "https://localhost:8080/"
        },
        "id": "Jr88sVukmYyy",
        "outputId": "14880411-9a48-41b2-bd03-68e226b4a50d"
      },
      "execution_count": 19,
      "outputs": [
        {
          "output_type": "stream",
          "name": "stdout",
          "text": [
            "run--->run\n",
            "runs--->run\n",
            "running--->running\n",
            "ran--->ran\n",
            "easily--->easily\n",
            "fairly--->fairly\n",
            "easy--->easy\n",
            "fair--->fair\n",
            "history--->history\n",
            "historical--->historical\n"
          ]
        }
      ]
    },
    {
      "cell_type": "code",
      "source": [
        "for i in range(len(my_review)):\n",
        "  words=nltk.word_tokenize(my_review[i])\n",
        "  words=[lemm.lemmatize(word) for word in words if word not in set(stopwords.words('english'))]\n",
        "  my_review[i]=' '.join(words)"
      ],
      "metadata": {
        "id": "vUBv1vtwmmGU"
      },
      "execution_count": 20,
      "outputs": []
    },
    {
      "cell_type": "code",
      "source": [
        "my_review"
      ],
      "metadata": {
        "colab": {
          "base_uri": "https://localhost:8080/"
        },
        "id": "vzHnkN0bncIH",
        "outputId": "7cbd56c0-b2ec-42e9-d87e-3ccbb87af7f0"
      },
      "execution_count": 21,
      "outputs": [
        {
          "output_type": "execute_result",
          "data": {
            "text/plain": [
              "['two half month widespread continu violenc manipur , includ conflagr earli may , prime minist narendra modi final broke silenc , video imag tribal woman parad nake thoubal district may 4 show heinou natur conflict state .',\n",
              " 'mr. modi yet acknowledg caus consequ conflict threaten spiral control .',\n",
              " 'suprem court india ’ suo motu cognis sexual assault seen video issuanc ultimatum union state govern bring perpetr book step asid let judiciari take action sting indict failur restor normalci manipur .',\n",
              " 'outrag express member parliament polit repres cut across parti line , mr. modi , maintain conspicu unexplain silenc rage violenc manipur , weigh crime promis punish guilti .',\n",
              " 'leader alway sought limelight need domin airwav , mr. modi ’ stand manipur violenc till betray insouci attitud toward crisi state .',\n",
              " 'renew attent manipur conflict final led state govern promis bring perpetr book , event last two half month reveal signific gulf meitei kuki-zo commun .',\n",
              " 'step toward reconcili would requir much better leadership much tout “ doubl engin ” govern bharatiya janata parti ( bjp ) offer fadespit home minist amit shah ’ visit manipur late may aftermath conflagr , littl movement get displac peopl back home ensur reduct ethnic hostil ; sporad incid violenc continu roil state .',\n",
              " 'manipur chief minist n. biren singh ’ polici utter shown unabl rise identitarian polit .',\n",
              " 'kuki commun see part problem .',\n",
              " 'bjp divid ethnic line .',\n",
              " 'sequenc event lead situat fester ethnic hostil anyth go , clear mr. singh ’ continu chief minist unten .',\n",
              " 'bjp seem loath antagonis meitei majoritarian whose support allow mr. singh retain power .',\n",
              " 'mr. singh ’ govern final sought take action crime commit may 4 , arrest four men follow outrag , need done revers hostil situat .',\n",
              " 'replac mr. singh le controversi leader would allow civil societi repres differ ethnic begin reconcili peac initi earnest .']"
            ]
          },
          "metadata": {},
          "execution_count": 21
        }
      ]
    },
    {
      "cell_type": "code",
      "source": [
        "for i in range(len(my_review)):\n",
        "  words=nltk.word_tokenize(my_review[i])\n",
        "  words=[lemm.lemmatize(word) for word in words if word not in set(stopwords.words('english'))]\n",
        "  my_review[i] = ' '.join(words)"
      ],
      "metadata": {
        "id": "qbBAQRPFngEY"
      },
      "execution_count": 31,
      "outputs": []
    },
    {
      "cell_type": "code",
      "source": [
        "my_review"
      ],
      "metadata": {
        "colab": {
          "base_uri": "https://localhost:8080/"
        },
        "id": "73Oi8di2suhY",
        "outputId": "1cf464f9-a6cb-48ba-ff10-bb0ad5ca21a9"
      },
      "execution_count": 23,
      "outputs": [
        {
          "output_type": "execute_result",
          "data": {
            "text/plain": [
              "['two half month widespread continu violenc manipur , includ conflagr earli may , prime minist narendra modi final broke silenc , video imag tribal woman parad nake thoubal district may 4 show heinou natur conflict state .',\n",
              " 'mr. modi yet acknowledg caus consequ conflict threaten spiral control .',\n",
              " 'suprem court india ’ suo motu cognis sexual assault seen video issuanc ultimatum union state govern bring perpetr book step asid let judiciari take action sting indict failur restor normalci manipur .',\n",
              " 'outrag express member parliament polit repres cut across parti line , mr. modi , maintain conspicu unexplain silenc rage violenc manipur , weigh crime promis punish guilti .',\n",
              " 'leader alway sought limelight need domin airwav , mr. modi ’ stand manipur violenc till betray insouci attitud toward crisi state .',\n",
              " 'renew attent manipur conflict final led state govern promis bring perpetr book , event last two half month reveal signific gulf meitei kuki-zo commun .',\n",
              " 'step toward reconcili would requir much better leadership much tout “ doubl engin ” govern bharatiya janata parti ( bjp ) offer fadespit home minist amit shah ’ visit manipur late may aftermath conflagr , littl movement get displac peopl back home ensur reduct ethnic hostil ; sporad incid violenc continu roil state .',\n",
              " 'manipur chief minist n. biren singh ’ polici utter shown unabl rise identitarian polit .',\n",
              " 'kuki commun see part problem .',\n",
              " 'bjp divid ethnic line .',\n",
              " 'sequenc event lead situat fester ethnic hostil anyth go , clear mr. singh ’ continu chief minist unten .',\n",
              " 'bjp seem loath antagonis meitei majoritarian whose support allow mr. singh retain power .',\n",
              " 'mr. singh ’ govern final sought take action crime commit may 4 , arrest four men follow outrag , need done revers hostil situat .',\n",
              " 'replac mr. singh le controversi leader would allow civil societi repres differ ethnic begin reconcili peac initi earnest .']"
            ]
          },
          "metadata": {},
          "execution_count": 23
        }
      ]
    },
    {
      "cell_type": "code",
      "source": [
        "# Bag of words"
      ],
      "metadata": {
        "id": "1SH3x0ojsxmD"
      },
      "execution_count": 24,
      "outputs": []
    },
    {
      "cell_type": "code",
      "source": [
        "#creating simple text\n",
        "\n",
        "sentence = \"\"\" Narendra Damodardas Modi; born 17 September 1950)[b] is an Indian politician serving as the 14th and current prime minister of India since 2014. Modi was the chief minister of Gujarat from 2001 to 2014 and is the Member of Parliament from Varanasi. He is a member of the Bharatiya Janata Party (BJP) and of the Rashtriya Swayamsevak Sangh (RSS), a right-wing Hindu nationalist paramilitary volunteer organisation. He is the longest serving prime minister from outside the Indian National Congress.\n",
        "\"\"\""
      ],
      "metadata": {
        "id": "c0-cUmBOwTxF"
      },
      "execution_count": 25,
      "outputs": []
    },
    {
      "cell_type": "code",
      "source": [
        "my_review =nltk.sent_tokenize(sentence)"
      ],
      "metadata": {
        "id": "3uuf-U9_wmRP"
      },
      "execution_count": 26,
      "outputs": []
    },
    {
      "cell_type": "code",
      "source": [
        "my_review"
      ],
      "metadata": {
        "colab": {
          "base_uri": "https://localhost:8080/"
        },
        "id": "tm7UlXNgwvam",
        "outputId": "29b967d8-559d-4f71-8c9e-ab5edfdc0b20"
      },
      "execution_count": 27,
      "outputs": [
        {
          "output_type": "execute_result",
          "data": {
            "text/plain": [
              "[' Narendra Damodardas Modi; born 17 September 1950)[b] is an Indian politician serving as the 14th and current prime minister of India since 2014.',\n",
              " 'Modi was the chief minister of Gujarat from 2001 to 2014 and is the Member of Parliament from Varanasi.',\n",
              " 'He is a member of the Bharatiya Janata Party (BJP) and of the Rashtriya Swayamsevak Sangh (RSS), a right-wing Hindu nationalist paramilitary volunteer organisation.',\n",
              " 'He is the longest serving prime minister from outside the Indian National Congress.']"
            ]
          },
          "metadata": {},
          "execution_count": 27
        }
      ]
    },
    {
      "cell_type": "code",
      "source": [
        "import re\n",
        "from nltk.corpus import stopwords\n",
        "from nltk.stem import WordNetLemmatizer\n",
        "\n",
        "lemma = WordNetLemmatizer()"
      ],
      "metadata": {
        "id": "3yHcuSsxwxXU"
      },
      "execution_count": 29,
      "outputs": []
    },
    {
      "cell_type": "code",
      "source": [
        "corpus = []\n",
        "\n",
        "for i in range (len(my_review)):\n",
        "  review = re.sub('[^a-zA-Z]','  ',my_review[i])\n",
        "  review = review.lower()\n",
        "  review = review.split()\n",
        "  review = [lemma.lemmatize(word) for word in review if word not in set(stopwords.words('english'))]\n",
        "  review = ' '.join(review)\n",
        "  corpus.append(review)\n",
        "\n"
      ],
      "metadata": {
        "id": "L7IOBL-Tw1RF"
      },
      "execution_count": 37,
      "outputs": []
    },
    {
      "cell_type": "code",
      "source": [
        "print(corpus)"
      ],
      "metadata": {
        "colab": {
          "base_uri": "https://localhost:8080/"
        },
        "id": "wcPU8rQ1y8os",
        "outputId": "078328ac-fc47-4bba-c391-7a4eb13d0d4a"
      },
      "execution_count": 38,
      "outputs": [
        {
          "output_type": "stream",
          "name": "stdout",
          "text": [
            "['narendra damodardas modi born september b indian politician serving th current prime minister india since', 'modi chief minister gujarat member parliament varanasi', 'member bharatiya janata party bjp rashtriya swayamsevak sangh r right wing hindu nationalist paramilitary volunteer organisation', 'longest serving prime minister outside indian national congress']\n"
          ]
        }
      ]
    },
    {
      "cell_type": "code",
      "source": [
        "# building Bag of words model"
      ],
      "metadata": {
        "id": "VWEmiu33zBEP"
      },
      "execution_count": 39,
      "outputs": []
    },
    {
      "cell_type": "code",
      "source": [
        "from sklearn.feature_extraction.text import CountVectorizer\n",
        "cv=CountVectorizer(max_features=500)\n",
        "x=cv.fit_transform(corpus).toarray()"
      ],
      "metadata": {
        "id": "f7tKi50i1ui0"
      },
      "execution_count": 42,
      "outputs": []
    },
    {
      "cell_type": "code",
      "source": [
        "x"
      ],
      "metadata": {
        "colab": {
          "base_uri": "https://localhost:8080/"
        },
        "id": "kYAv6uLa2NX_",
        "outputId": "ca6a6e7c-5979-4fbb-e9be-41356aa8fdc6"
      },
      "execution_count": 43,
      "outputs": [
        {
          "output_type": "execute_result",
          "data": {
            "text/plain": [
              "array([[0, 0, 1, 0, 0, 1, 1, 0, 0, 1, 1, 0, 0, 0, 1, 1, 1, 0, 0, 0, 0, 0,\n",
              "        0, 0, 1, 1, 0, 0, 0, 1, 1, 1, 0, 1, 0, 0, 0],\n",
              "       [0, 0, 0, 1, 0, 0, 0, 1, 0, 0, 0, 0, 0, 1, 1, 1, 0, 0, 0, 0, 0, 0,\n",
              "        1, 0, 0, 0, 0, 0, 0, 0, 0, 0, 0, 0, 1, 0, 0],\n",
              "       [1, 1, 0, 0, 0, 0, 0, 0, 1, 0, 0, 1, 0, 1, 0, 0, 0, 0, 1, 1, 0, 1,\n",
              "        0, 1, 0, 0, 1, 1, 1, 0, 0, 0, 1, 0, 0, 1, 1],\n",
              "       [0, 0, 0, 0, 1, 0, 0, 0, 0, 0, 1, 0, 1, 0, 1, 0, 0, 1, 0, 0, 1, 0,\n",
              "        0, 0, 0, 1, 0, 0, 0, 0, 1, 0, 0, 0, 0, 0, 0]])"
            ]
          },
          "metadata": {},
          "execution_count": 43
        }
      ]
    },
    {
      "cell_type": "code",
      "source": [
        "import pandas as pd\n",
        "df =pd.DataFrame(x)"
      ],
      "metadata": {
        "id": "TFZiKzo52nFE"
      },
      "execution_count": 44,
      "outputs": []
    },
    {
      "cell_type": "code",
      "source": [
        "df.head()"
      ],
      "metadata": {
        "colab": {
          "base_uri": "https://localhost:8080/",
          "height": 204
        },
        "id": "KNFG22uC22O3",
        "outputId": "d1a7d14b-3419-4fae-d004-b4a12d8f8f58"
      },
      "execution_count": 45,
      "outputs": [
        {
          "output_type": "execute_result",
          "data": {
            "text/plain": [
              "   0   1   2   3   4   5   6   7   8   9   ...  27  28  29  30  31  32  33  \\\n",
              "0   0   0   1   0   0   1   1   0   0   1  ...   0   0   1   1   1   0   1   \n",
              "1   0   0   0   1   0   0   0   1   0   0  ...   0   0   0   0   0   0   0   \n",
              "2   1   1   0   0   0   0   0   0   1   0  ...   1   1   0   0   0   1   0   \n",
              "3   0   0   0   0   1   0   0   0   0   0  ...   0   0   0   1   0   0   0   \n",
              "\n",
              "   34  35  36  \n",
              "0   0   0   0  \n",
              "1   1   0   0  \n",
              "2   0   1   1  \n",
              "3   0   0   0  \n",
              "\n",
              "[4 rows x 37 columns]"
            ],
            "text/html": [
              "\n",
              "\n",
              "  <div id=\"df-02e2c12b-9c5e-4fb3-bcb8-2b2e5c4f4ffa\">\n",
              "    <div class=\"colab-df-container\">\n",
              "      <div>\n",
              "<style scoped>\n",
              "    .dataframe tbody tr th:only-of-type {\n",
              "        vertical-align: middle;\n",
              "    }\n",
              "\n",
              "    .dataframe tbody tr th {\n",
              "        vertical-align: top;\n",
              "    }\n",
              "\n",
              "    .dataframe thead th {\n",
              "        text-align: right;\n",
              "    }\n",
              "</style>\n",
              "<table border=\"1\" class=\"dataframe\">\n",
              "  <thead>\n",
              "    <tr style=\"text-align: right;\">\n",
              "      <th></th>\n",
              "      <th>0</th>\n",
              "      <th>1</th>\n",
              "      <th>2</th>\n",
              "      <th>3</th>\n",
              "      <th>4</th>\n",
              "      <th>5</th>\n",
              "      <th>6</th>\n",
              "      <th>7</th>\n",
              "      <th>8</th>\n",
              "      <th>9</th>\n",
              "      <th>...</th>\n",
              "      <th>27</th>\n",
              "      <th>28</th>\n",
              "      <th>29</th>\n",
              "      <th>30</th>\n",
              "      <th>31</th>\n",
              "      <th>32</th>\n",
              "      <th>33</th>\n",
              "      <th>34</th>\n",
              "      <th>35</th>\n",
              "      <th>36</th>\n",
              "    </tr>\n",
              "  </thead>\n",
              "  <tbody>\n",
              "    <tr>\n",
              "      <th>0</th>\n",
              "      <td>0</td>\n",
              "      <td>0</td>\n",
              "      <td>1</td>\n",
              "      <td>0</td>\n",
              "      <td>0</td>\n",
              "      <td>1</td>\n",
              "      <td>1</td>\n",
              "      <td>0</td>\n",
              "      <td>0</td>\n",
              "      <td>1</td>\n",
              "      <td>...</td>\n",
              "      <td>0</td>\n",
              "      <td>0</td>\n",
              "      <td>1</td>\n",
              "      <td>1</td>\n",
              "      <td>1</td>\n",
              "      <td>0</td>\n",
              "      <td>1</td>\n",
              "      <td>0</td>\n",
              "      <td>0</td>\n",
              "      <td>0</td>\n",
              "    </tr>\n",
              "    <tr>\n",
              "      <th>1</th>\n",
              "      <td>0</td>\n",
              "      <td>0</td>\n",
              "      <td>0</td>\n",
              "      <td>1</td>\n",
              "      <td>0</td>\n",
              "      <td>0</td>\n",
              "      <td>0</td>\n",
              "      <td>1</td>\n",
              "      <td>0</td>\n",
              "      <td>0</td>\n",
              "      <td>...</td>\n",
              "      <td>0</td>\n",
              "      <td>0</td>\n",
              "      <td>0</td>\n",
              "      <td>0</td>\n",
              "      <td>0</td>\n",
              "      <td>0</td>\n",
              "      <td>0</td>\n",
              "      <td>1</td>\n",
              "      <td>0</td>\n",
              "      <td>0</td>\n",
              "    </tr>\n",
              "    <tr>\n",
              "      <th>2</th>\n",
              "      <td>1</td>\n",
              "      <td>1</td>\n",
              "      <td>0</td>\n",
              "      <td>0</td>\n",
              "      <td>0</td>\n",
              "      <td>0</td>\n",
              "      <td>0</td>\n",
              "      <td>0</td>\n",
              "      <td>1</td>\n",
              "      <td>0</td>\n",
              "      <td>...</td>\n",
              "      <td>1</td>\n",
              "      <td>1</td>\n",
              "      <td>0</td>\n",
              "      <td>0</td>\n",
              "      <td>0</td>\n",
              "      <td>1</td>\n",
              "      <td>0</td>\n",
              "      <td>0</td>\n",
              "      <td>1</td>\n",
              "      <td>1</td>\n",
              "    </tr>\n",
              "    <tr>\n",
              "      <th>3</th>\n",
              "      <td>0</td>\n",
              "      <td>0</td>\n",
              "      <td>0</td>\n",
              "      <td>0</td>\n",
              "      <td>1</td>\n",
              "      <td>0</td>\n",
              "      <td>0</td>\n",
              "      <td>0</td>\n",
              "      <td>0</td>\n",
              "      <td>0</td>\n",
              "      <td>...</td>\n",
              "      <td>0</td>\n",
              "      <td>0</td>\n",
              "      <td>0</td>\n",
              "      <td>1</td>\n",
              "      <td>0</td>\n",
              "      <td>0</td>\n",
              "      <td>0</td>\n",
              "      <td>0</td>\n",
              "      <td>0</td>\n",
              "      <td>0</td>\n",
              "    </tr>\n",
              "  </tbody>\n",
              "</table>\n",
              "<p>4 rows × 37 columns</p>\n",
              "</div>\n",
              "      <button class=\"colab-df-convert\" onclick=\"convertToInteractive('df-02e2c12b-9c5e-4fb3-bcb8-2b2e5c4f4ffa')\"\n",
              "              title=\"Convert this dataframe to an interactive table.\"\n",
              "              style=\"display:none;\">\n",
              "\n",
              "  <svg xmlns=\"http://www.w3.org/2000/svg\" height=\"24px\"viewBox=\"0 0 24 24\"\n",
              "       width=\"24px\">\n",
              "    <path d=\"M0 0h24v24H0V0z\" fill=\"none\"/>\n",
              "    <path d=\"M18.56 5.44l.94 2.06.94-2.06 2.06-.94-2.06-.94-.94-2.06-.94 2.06-2.06.94zm-11 1L8.5 8.5l.94-2.06 2.06-.94-2.06-.94L8.5 2.5l-.94 2.06-2.06.94zm10 10l.94 2.06.94-2.06 2.06-.94-2.06-.94-.94-2.06-.94 2.06-2.06.94z\"/><path d=\"M17.41 7.96l-1.37-1.37c-.4-.4-.92-.59-1.43-.59-.52 0-1.04.2-1.43.59L10.3 9.45l-7.72 7.72c-.78.78-.78 2.05 0 2.83L4 21.41c.39.39.9.59 1.41.59.51 0 1.02-.2 1.41-.59l7.78-7.78 2.81-2.81c.8-.78.8-2.07 0-2.86zM5.41 20L4 18.59l7.72-7.72 1.47 1.35L5.41 20z\"/>\n",
              "  </svg>\n",
              "      </button>\n",
              "\n",
              "\n",
              "\n",
              "    <div id=\"df-d9a7a42c-78e6-473c-a536-a443e7eb8d03\">\n",
              "      <button class=\"colab-df-quickchart\" onclick=\"quickchart('df-d9a7a42c-78e6-473c-a536-a443e7eb8d03')\"\n",
              "              title=\"Suggest charts.\"\n",
              "              style=\"display:none;\">\n",
              "\n",
              "<svg xmlns=\"http://www.w3.org/2000/svg\" height=\"24px\"viewBox=\"0 0 24 24\"\n",
              "     width=\"24px\">\n",
              "    <g>\n",
              "        <path d=\"M19 3H5c-1.1 0-2 .9-2 2v14c0 1.1.9 2 2 2h14c1.1 0 2-.9 2-2V5c0-1.1-.9-2-2-2zM9 17H7v-7h2v7zm4 0h-2V7h2v10zm4 0h-2v-4h2v4z\"/>\n",
              "    </g>\n",
              "</svg>\n",
              "      </button>\n",
              "    </div>\n",
              "\n",
              "<style>\n",
              "  .colab-df-quickchart {\n",
              "    background-color: #E8F0FE;\n",
              "    border: none;\n",
              "    border-radius: 50%;\n",
              "    cursor: pointer;\n",
              "    display: none;\n",
              "    fill: #1967D2;\n",
              "    height: 32px;\n",
              "    padding: 0 0 0 0;\n",
              "    width: 32px;\n",
              "  }\n",
              "\n",
              "  .colab-df-quickchart:hover {\n",
              "    background-color: #E2EBFA;\n",
              "    box-shadow: 0px 1px 2px rgba(60, 64, 67, 0.3), 0px 1px 3px 1px rgba(60, 64, 67, 0.15);\n",
              "    fill: #174EA6;\n",
              "  }\n",
              "\n",
              "  [theme=dark] .colab-df-quickchart {\n",
              "    background-color: #3B4455;\n",
              "    fill: #D2E3FC;\n",
              "  }\n",
              "\n",
              "  [theme=dark] .colab-df-quickchart:hover {\n",
              "    background-color: #434B5C;\n",
              "    box-shadow: 0px 1px 3px 1px rgba(0, 0, 0, 0.15);\n",
              "    filter: drop-shadow(0px 1px 2px rgba(0, 0, 0, 0.3));\n",
              "    fill: #FFFFFF;\n",
              "  }\n",
              "</style>\n",
              "\n",
              "    <script>\n",
              "      async function quickchart(key) {\n",
              "        const containerElement = document.querySelector('#' + key);\n",
              "        const charts = await google.colab.kernel.invokeFunction(\n",
              "            'suggestCharts', [key], {});\n",
              "      }\n",
              "    </script>\n",
              "\n",
              "      <script>\n",
              "\n",
              "function displayQuickchartButton(domScope) {\n",
              "  let quickchartButtonEl =\n",
              "    domScope.querySelector('#df-d9a7a42c-78e6-473c-a536-a443e7eb8d03 button.colab-df-quickchart');\n",
              "  quickchartButtonEl.style.display =\n",
              "    google.colab.kernel.accessAllowed ? 'block' : 'none';\n",
              "}\n",
              "\n",
              "        displayQuickchartButton(document);\n",
              "      </script>\n",
              "      <style>\n",
              "    .colab-df-container {\n",
              "      display:flex;\n",
              "      flex-wrap:wrap;\n",
              "      gap: 12px;\n",
              "    }\n",
              "\n",
              "    .colab-df-convert {\n",
              "      background-color: #E8F0FE;\n",
              "      border: none;\n",
              "      border-radius: 50%;\n",
              "      cursor: pointer;\n",
              "      display: none;\n",
              "      fill: #1967D2;\n",
              "      height: 32px;\n",
              "      padding: 0 0 0 0;\n",
              "      width: 32px;\n",
              "    }\n",
              "\n",
              "    .colab-df-convert:hover {\n",
              "      background-color: #E2EBFA;\n",
              "      box-shadow: 0px 1px 2px rgba(60, 64, 67, 0.3), 0px 1px 3px 1px rgba(60, 64, 67, 0.15);\n",
              "      fill: #174EA6;\n",
              "    }\n",
              "\n",
              "    [theme=dark] .colab-df-convert {\n",
              "      background-color: #3B4455;\n",
              "      fill: #D2E3FC;\n",
              "    }\n",
              "\n",
              "    [theme=dark] .colab-df-convert:hover {\n",
              "      background-color: #434B5C;\n",
              "      box-shadow: 0px 1px 3px 1px rgba(0, 0, 0, 0.15);\n",
              "      filter: drop-shadow(0px 1px 2px rgba(0, 0, 0, 0.3));\n",
              "      fill: #FFFFFF;\n",
              "    }\n",
              "  </style>\n",
              "\n",
              "      <script>\n",
              "        const buttonEl =\n",
              "          document.querySelector('#df-02e2c12b-9c5e-4fb3-bcb8-2b2e5c4f4ffa button.colab-df-convert');\n",
              "        buttonEl.style.display =\n",
              "          google.colab.kernel.accessAllowed ? 'block' : 'none';\n",
              "\n",
              "        async function convertToInteractive(key) {\n",
              "          const element = document.querySelector('#df-02e2c12b-9c5e-4fb3-bcb8-2b2e5c4f4ffa');\n",
              "          const dataTable =\n",
              "            await google.colab.kernel.invokeFunction('convertToInteractive',\n",
              "                                                     [key], {});\n",
              "          if (!dataTable) return;\n",
              "\n",
              "          const docLinkHtml = 'Like what you see? Visit the ' +\n",
              "            '<a target=\"_blank\" href=https://colab.research.google.com/notebooks/data_table.ipynb>data table notebook</a>'\n",
              "            + ' to learn more about interactive tables.';\n",
              "          element.innerHTML = '';\n",
              "          dataTable['output_type'] = 'display_data';\n",
              "          await google.colab.output.renderOutput(dataTable, element);\n",
              "          const docLink = document.createElement('div');\n",
              "          docLink.innerHTML = docLinkHtml;\n",
              "          element.appendChild(docLink);\n",
              "        }\n",
              "      </script>\n",
              "    </div>\n",
              "  </div>\n"
            ]
          },
          "metadata": {},
          "execution_count": 45
        }
      ]
    },
    {
      "cell_type": "code",
      "source": [
        "df.shape"
      ],
      "metadata": {
        "colab": {
          "base_uri": "https://localhost:8080/"
        },
        "id": "l1mNj7yP23yd",
        "outputId": "90f387ff-5b71-48ad-fc4a-c615153a3f33"
      },
      "execution_count": 46,
      "outputs": [
        {
          "output_type": "execute_result",
          "data": {
            "text/plain": [
              "(4, 37)"
            ]
          },
          "metadata": {},
          "execution_count": 46
        }
      ]
    },
    {
      "cell_type": "code",
      "source": [
        "\n",
        "# Bag of words\n",
        "\n",
        "# Converting Text to vector\n",
        "# creating more sparse matrix-zero value\n",
        "# We can not figure  out which words is most significant"
      ],
      "metadata": {
        "id": "Hb7eGs5I3Cdf"
      },
      "execution_count": 47,
      "outputs": []
    },
    {
      "cell_type": "code",
      "source": [
        "# Text to Speech"
      ],
      "metadata": {
        "id": "0qiascnw3gJa"
      },
      "execution_count": 49,
      "outputs": []
    },
    {
      "cell_type": "code",
      "source": [
        "import os\n",
        "os.getcwd()"
      ],
      "metadata": {
        "colab": {
          "base_uri": "https://localhost:8080/",
          "height": 35
        },
        "id": "rDMZEt-P5Hlf",
        "outputId": "50338909-197f-4f00-cd56-35883dd7951f"
      },
      "execution_count": 50,
      "outputs": [
        {
          "output_type": "execute_result",
          "data": {
            "text/plain": [
              "'/content'"
            ],
            "application/vnd.google.colaboratory.intrinsic+json": {
              "type": "string"
            }
          },
          "metadata": {},
          "execution_count": 50
        }
      ]
    },
    {
      "cell_type": "code",
      "source": [
        "!pip install gTTS\n",
        "# Google Text to SPeech"
      ],
      "metadata": {
        "colab": {
          "base_uri": "https://localhost:8080/"
        },
        "id": "Jopb1pLb5Nq7",
        "outputId": "3e1b50f2-af7b-4b1c-bcd1-50ae10031bc9"
      },
      "execution_count": 55,
      "outputs": [
        {
          "output_type": "stream",
          "name": "stdout",
          "text": [
            "Requirement already satisfied: gTTS in /usr/local/lib/python3.10/dist-packages (2.3.2)\n",
            "Requirement already satisfied: requests<3,>=2.27 in /usr/local/lib/python3.10/dist-packages (from gTTS) (2.27.1)\n",
            "Requirement already satisfied: click<8.2,>=7.1 in /usr/local/lib/python3.10/dist-packages (from gTTS) (8.1.6)\n",
            "Requirement already satisfied: urllib3<1.27,>=1.21.1 in /usr/local/lib/python3.10/dist-packages (from requests<3,>=2.27->gTTS) (1.26.16)\n",
            "Requirement already satisfied: certifi>=2017.4.17 in /usr/local/lib/python3.10/dist-packages (from requests<3,>=2.27->gTTS) (2023.5.7)\n",
            "Requirement already satisfied: charset-normalizer~=2.0.0 in /usr/local/lib/python3.10/dist-packages (from requests<3,>=2.27->gTTS) (2.0.12)\n",
            "Requirement already satisfied: idna<4,>=2.5 in /usr/local/lib/python3.10/dist-packages (from requests<3,>=2.27->gTTS) (3.4)\n"
          ]
        }
      ]
    },
    {
      "cell_type": "code",
      "source": [
        "from gtts import gTTS"
      ],
      "metadata": {
        "id": "aRmK4QDJ5Vmm"
      },
      "execution_count": 56,
      "outputs": []
    },
    {
      "cell_type": "code",
      "source": [
        "my_sentence =input('please enter your sentence here to convert into Audio:\\n>')"
      ],
      "metadata": {
        "colab": {
          "base_uri": "https://localhost:8080/"
        },
        "id": "qIj3y2JQ5dma",
        "outputId": "89327b8c-3136-46cf-bf6f-9d82f41eedb9"
      },
      "execution_count": 57,
      "outputs": [
        {
          "name": "stdout",
          "output_type": "stream",
          "text": [
            "please enter your sentence here to convert into Audio:\n",
            ">After two and a half months of widespread and continuing violence in Manipur, which included a conflagration in early May, Prime Minister Narendra Modi finally broke his silence, after video images of tribal women being paraded naked in Thoubal district on May 4 once again showed up the heinous nature of the conflict in the State. But Mr. Modi is yet to acknowledge the causes and the consequences of the conflict that is threatening to spiral out of control\n"
          ]
        }
      ]
    },
    {
      "cell_type": "code",
      "source": [
        "sentence =gTTS(text=my_sentence,lang='en')"
      ],
      "metadata": {
        "id": "JVeQ3PA06Bef"
      },
      "execution_count": 58,
      "outputs": []
    },
    {
      "cell_type": "code",
      "source": [
        "sentence.save(\"english.mp3\")"
      ],
      "metadata": {
        "id": "BCdQQDw96dlx"
      },
      "execution_count": 59,
      "outputs": []
    },
    {
      "cell_type": "code",
      "source": [
        "my_sentence =input('please enter your sentence here to convert into Audio:\\n>')"
      ],
      "metadata": {
        "colab": {
          "base_uri": "https://localhost:8080/"
        },
        "id": "vPKszN8X6iGR",
        "outputId": "ed983d3a-4579-45f4-cc90-7827be682d01"
      },
      "execution_count": 60,
      "outputs": [
        {
          "name": "stdout",
          "output_type": "stream",
          "text": [
            "please enter your sentence here to convert into Audio:\n",
            ">गोंगाट  हरवतात पाण्याच्या वाटा जेव्हा जेव्हा येतो पाऊस मोठा पचका होतो नियोजनाचा की शिक्षणाचा वाटा आहे खोटा  जिकडे तिकडे पाणीच पाणी शहरांसह खेड्यातही पाणी रेटा वाहतूक ठप्प, व्यवहार ठप्प तरी दावे कामे पुर्ण गोंगाट मोठा\n"
          ]
        }
      ]
    },
    {
      "cell_type": "code",
      "source": [
        "sentence =gTTS(text=my_sentence,lang='mr')"
      ],
      "metadata": {
        "id": "APvUmURE8BCP"
      },
      "execution_count": 61,
      "outputs": []
    },
    {
      "cell_type": "code",
      "source": [
        "sentence.save(\"marathi.mp3\")"
      ],
      "metadata": {
        "id": "AelZPb5E8YRU"
      },
      "execution_count": 62,
      "outputs": []
    },
    {
      "cell_type": "code",
      "source": [],
      "metadata": {
        "id": "ux6t_5sT8bjU"
      },
      "execution_count": null,
      "outputs": []
    }
  ]
}