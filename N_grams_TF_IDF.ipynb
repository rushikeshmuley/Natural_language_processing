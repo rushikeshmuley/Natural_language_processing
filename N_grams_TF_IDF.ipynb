{
  "nbformat": 4,
  "nbformat_minor": 0,
  "metadata": {
    "colab": {
      "provenance": []
    },
    "kernelspec": {
      "name": "python3",
      "display_name": "Python 3"
    },
    "language_info": {
      "name": "python"
    }
  },
  "cells": [
    {
      "cell_type": "markdown",
      "source": [
        "# TEXTBLOB"
      ],
      "metadata": {
        "id": "tCHNUaCucTLC"
      }
    },
    {
      "cell_type": "code",
      "source": [
        "pip install textblob==0.9.0"
      ],
      "metadata": {
        "colab": {
          "base_uri": "https://localhost:8080/"
        },
        "id": "HNGFuBOycbqY",
        "outputId": "08f4cbc6-daf8-4933-ccab-179e5ccefc2e"
      },
      "execution_count": 2,
      "outputs": [
        {
          "output_type": "stream",
          "name": "stdout",
          "text": [
            "Requirement already satisfied: textblob==0.9.0 in /usr/local/lib/python3.10/dist-packages (0.9.0)\n",
            "Requirement already satisfied: nltk>=3.0 in /usr/local/lib/python3.10/dist-packages (from textblob==0.9.0) (3.8.1)\n",
            "Requirement already satisfied: click in /usr/local/lib/python3.10/dist-packages (from nltk>=3.0->textblob==0.9.0) (8.1.6)\n",
            "Requirement already satisfied: joblib in /usr/local/lib/python3.10/dist-packages (from nltk>=3.0->textblob==0.9.0) (1.3.1)\n",
            "Requirement already satisfied: regex>=2021.8.3 in /usr/local/lib/python3.10/dist-packages (from nltk>=3.0->textblob==0.9.0) (2022.10.31)\n",
            "Requirement already satisfied: tqdm in /usr/local/lib/python3.10/dist-packages (from nltk>=3.0->textblob==0.9.0) (4.65.0)\n"
          ]
        }
      ]
    },
    {
      "cell_type": "code",
      "source": [
        "!python -m textblob.download_corpora"
      ],
      "metadata": {
        "colab": {
          "base_uri": "https://localhost:8080/"
        },
        "id": "-iH6qT9ndEq7",
        "outputId": "edb46994-646c-46f4-bc80-e2f50b469f25"
      },
      "execution_count": 3,
      "outputs": [
        {
          "output_type": "stream",
          "name": "stdout",
          "text": [
            "[nltk_data] Downloading package brown to /root/nltk_data...\n",
            "[nltk_data]   Package brown is already up-to-date!\n",
            "[nltk_data] Downloading package punkt to /root/nltk_data...\n",
            "[nltk_data]   Package punkt is already up-to-date!\n",
            "[nltk_data] Downloading package wordnet to /root/nltk_data...\n",
            "[nltk_data]   Package wordnet is already up-to-date!\n",
            "[nltk_data] Downloading package conll2000 to /root/nltk_data...\n",
            "[nltk_data]   Package conll2000 is already up-to-date!\n",
            "[nltk_data] Downloading package maxent_treebank_pos_tagger to\n",
            "[nltk_data]     /root/nltk_data...\n",
            "[nltk_data]   Package maxent_treebank_pos_tagger is already up-to-\n",
            "[nltk_data]       date!\n",
            "[nltk_data] Downloading package movie_reviews to /root/nltk_data...\n",
            "[nltk_data]   Package movie_reviews is already up-to-date!\n",
            "Finished.\n"
          ]
        }
      ]
    },
    {
      "cell_type": "code",
      "source": [
        "from textblob import TextBlob"
      ],
      "metadata": {
        "id": "9OR4rHHsdMxK"
      },
      "execution_count": 4,
      "outputs": []
    },
    {
      "cell_type": "code",
      "source": [
        "# N-Gram Method"
      ],
      "metadata": {
        "id": "FyS3Nnn_dUss"
      },
      "execution_count": 5,
      "outputs": []
    },
    {
      "cell_type": "code",
      "source": [
        "blob=TextBlob(\"Hello,Good Morning i hope you are all are doing well\")"
      ],
      "metadata": {
        "id": "tCLnIUazdXgq"
      },
      "execution_count": 6,
      "outputs": []
    },
    {
      "cell_type": "code",
      "source": [
        "blob"
      ],
      "metadata": {
        "colab": {
          "base_uri": "https://localhost:8080/"
        },
        "id": "tvkvj5FcdvTD",
        "outputId": "afa0b5d0-6226-471c-e392-09d473ff2ad0"
      },
      "execution_count": 7,
      "outputs": [
        {
          "output_type": "execute_result",
          "data": {
            "text/plain": [
              "TextBlob(\"Hello,Good Morning i hope you are all are doing well\")"
            ]
          },
          "metadata": {},
          "execution_count": 7
        }
      ]
    },
    {
      "cell_type": "code",
      "source": [
        "blob.ngrams(n=1)"
      ],
      "metadata": {
        "colab": {
          "base_uri": "https://localhost:8080/"
        },
        "id": "wX_A8mRZdwW5",
        "outputId": "76be0098-bb70-40e1-80e5-b4a8ec0b4d88"
      },
      "execution_count": 8,
      "outputs": [
        {
          "output_type": "execute_result",
          "data": {
            "text/plain": [
              "[WordList(['Hello']),\n",
              " WordList(['Good']),\n",
              " WordList(['Morning']),\n",
              " WordList(['i']),\n",
              " WordList(['hope']),\n",
              " WordList(['you']),\n",
              " WordList(['are']),\n",
              " WordList(['all']),\n",
              " WordList(['are']),\n",
              " WordList(['doing']),\n",
              " WordList(['well'])]"
            ]
          },
          "metadata": {},
          "execution_count": 8
        }
      ]
    },
    {
      "cell_type": "code",
      "source": [
        "blob.ngrams(n=2)"
      ],
      "metadata": {
        "colab": {
          "base_uri": "https://localhost:8080/"
        },
        "id": "e6Wr91smeRL1",
        "outputId": "6466c4db-747e-458e-9a04-f428e78ab1e2"
      },
      "execution_count": 9,
      "outputs": [
        {
          "output_type": "execute_result",
          "data": {
            "text/plain": [
              "[WordList(['Hello', 'Good']),\n",
              " WordList(['Good', 'Morning']),\n",
              " WordList(['Morning', 'i']),\n",
              " WordList(['i', 'hope']),\n",
              " WordList(['hope', 'you']),\n",
              " WordList(['you', 'are']),\n",
              " WordList(['are', 'all']),\n",
              " WordList(['all', 'are']),\n",
              " WordList(['are', 'doing']),\n",
              " WordList(['doing', 'well'])]"
            ]
          },
          "metadata": {},
          "execution_count": 9
        }
      ]
    },
    {
      "cell_type": "code",
      "source": [
        "blob.ngrams(n=3)"
      ],
      "metadata": {
        "colab": {
          "base_uri": "https://localhost:8080/"
        },
        "id": "CNceJBhYeUq4",
        "outputId": "e5f09ba4-1724-41b3-badb-a869c1951d2c"
      },
      "execution_count": 10,
      "outputs": [
        {
          "output_type": "execute_result",
          "data": {
            "text/plain": [
              "[WordList(['Hello', 'Good', 'Morning']),\n",
              " WordList(['Good', 'Morning', 'i']),\n",
              " WordList(['Morning', 'i', 'hope']),\n",
              " WordList(['i', 'hope', 'you']),\n",
              " WordList(['hope', 'you', 'are']),\n",
              " WordList(['you', 'are', 'all']),\n",
              " WordList(['are', 'all', 'are']),\n",
              " WordList(['all', 'are', 'doing']),\n",
              " WordList(['are', 'doing', 'well'])]"
            ]
          },
          "metadata": {},
          "execution_count": 10
        }
      ]
    },
    {
      "cell_type": "code",
      "source": [
        "blob.ngrams(n=4)"
      ],
      "metadata": {
        "colab": {
          "base_uri": "https://localhost:8080/"
        },
        "id": "VdFMfTNteXUB",
        "outputId": "3e3265eb-d82e-4d4c-8ee1-030a37a5e1b2"
      },
      "execution_count": 11,
      "outputs": [
        {
          "output_type": "execute_result",
          "data": {
            "text/plain": [
              "[WordList(['Hello', 'Good', 'Morning', 'i']),\n",
              " WordList(['Good', 'Morning', 'i', 'hope']),\n",
              " WordList(['Morning', 'i', 'hope', 'you']),\n",
              " WordList(['i', 'hope', 'you', 'are']),\n",
              " WordList(['hope', 'you', 'are', 'all']),\n",
              " WordList(['you', 'are', 'all', 'are']),\n",
              " WordList(['are', 'all', 'are', 'doing']),\n",
              " WordList(['all', 'are', 'doing', 'well'])]"
            ]
          },
          "metadata": {},
          "execution_count": 11
        }
      ]
    },
    {
      "cell_type": "code",
      "source": [
        "from textblob import Word\n",
        "from textblob.wordnet import VERB"
      ],
      "metadata": {
        "id": "p0LlyRJVeZ1Z"
      },
      "execution_count": 12,
      "outputs": []
    },
    {
      "cell_type": "code",
      "source": [
        "my_sentence=TextBlob(\"Today,I am going to start the most significant topic called NLP\")"
      ],
      "metadata": {
        "id": "wa_eB526gSeR"
      },
      "execution_count": 13,
      "outputs": []
    },
    {
      "cell_type": "code",
      "source": [
        "my_sentence"
      ],
      "metadata": {
        "colab": {
          "base_uri": "https://localhost:8080/"
        },
        "id": "TIbQxQTnglgd",
        "outputId": "d2807777-7d94-44fb-d1d2-a15193083b56"
      },
      "execution_count": 14,
      "outputs": [
        {
          "output_type": "execute_result",
          "data": {
            "text/plain": [
              "TextBlob(\"Today,I am going to start the most significant topic called NLP\")"
            ]
          },
          "metadata": {},
          "execution_count": 14
        }
      ]
    },
    {
      "cell_type": "code",
      "source": [
        "my_sentence=TextBlob(\"You are good.\"\n",
        "                     \"He is simply brillent\"\n",
        "                     \"I am teaching NLP\"\n",
        "                     \"He is expert in NLP\"\n",
        "                     \"You are doing Well.\")"
      ],
      "metadata": {
        "id": "UN_3Z0x5gokg"
      },
      "execution_count": 15,
      "outputs": []
    },
    {
      "cell_type": "code",
      "source": [
        "my_sentence.word_counts"
      ],
      "metadata": {
        "colab": {
          "base_uri": "https://localhost:8080/"
        },
        "id": "JvrmaqMNhYE4",
        "outputId": "35f4687f-b1fa-450e-980c-da66e241066f"
      },
      "execution_count": 16,
      "outputs": [
        {
          "output_type": "execute_result",
          "data": {
            "text/plain": [
              "defaultdict(int,\n",
              "            {'you': 1,\n",
              "             'are': 2,\n",
              "             'good.he': 1,\n",
              "             'is': 2,\n",
              "             'simply': 1,\n",
              "             'brillenti': 1,\n",
              "             'am': 1,\n",
              "             'teaching': 1,\n",
              "             'nlphe': 1,\n",
              "             'expert': 1,\n",
              "             'in': 1,\n",
              "             'nlpyou': 1,\n",
              "             'doing': 1,\n",
              "             'well': 1})"
            ]
          },
          "metadata": {},
          "execution_count": 16
        }
      ]
    },
    {
      "cell_type": "code",
      "source": [
        "sentence=TextBlob(\"Kohli resumed his batting from the overnight score of 87 and didn’t take much time to reach his 29th Test century and his first overseas Test ton since December 2018.\")"
      ],
      "metadata": {
        "id": "q4aC5guLhgbb"
      },
      "execution_count": 17,
      "outputs": []
    },
    {
      "cell_type": "code",
      "source": [
        "sentence.words[9].pluralize()"
      ],
      "metadata": {
        "colab": {
          "base_uri": "https://localhost:8080/",
          "height": 35
        },
        "id": "AjBo3N3fjXXE",
        "outputId": "5f867a50-9531-42ec-a965-8c95ecbc1a5b"
      },
      "execution_count": 18,
      "outputs": [
        {
          "output_type": "execute_result",
          "data": {
            "text/plain": [
              "'87s'"
            ],
            "application/vnd.google.colaboratory.intrinsic+json": {
              "type": "string"
            }
          },
          "metadata": {},
          "execution_count": 18
        }
      ]
    },
    {
      "cell_type": "code",
      "source": [
        "sentence=TextBlob(\"go take make makes\")"
      ],
      "metadata": {
        "id": "9SrKmvWBjdXA"
      },
      "execution_count": 19,
      "outputs": []
    },
    {
      "cell_type": "code",
      "source": [
        "sentence.words[3].singularize()"
      ],
      "metadata": {
        "colab": {
          "base_uri": "https://localhost:8080/",
          "height": 35
        },
        "id": "TGtHYAEhkT-2",
        "outputId": "e8f4df21-be40-4454-d392-773e0367433d"
      },
      "execution_count": 20,
      "outputs": [
        {
          "output_type": "execute_result",
          "data": {
            "text/plain": [
              "'make'"
            ],
            "application/vnd.google.colaboratory.intrinsic+json": {
              "type": "string"
            }
          },
          "metadata": {},
          "execution_count": 20
        }
      ]
    },
    {
      "cell_type": "code",
      "source": [
        "w =Word(\"went\")\n",
        "w1=Word(\"go\")\n",
        "w2=Word(\"going\")"
      ],
      "metadata": {
        "id": "cbGFaAiMkZ3H"
      },
      "execution_count": 21,
      "outputs": []
    },
    {
      "cell_type": "code",
      "source": [
        "w.lemmatize('v')"
      ],
      "metadata": {
        "colab": {
          "base_uri": "https://localhost:8080/",
          "height": 35
        },
        "id": "Feo407R0k047",
        "outputId": "0528a3a8-742f-4453-8d9e-7081f75c51ef"
      },
      "execution_count": 22,
      "outputs": [
        {
          "output_type": "execute_result",
          "data": {
            "text/plain": [
              "'go'"
            ],
            "application/vnd.google.colaboratory.intrinsic+json": {
              "type": "string"
            }
          },
          "metadata": {},
          "execution_count": 22
        }
      ]
    },
    {
      "cell_type": "code",
      "source": [
        "w1.lemmatize('v')"
      ],
      "metadata": {
        "colab": {
          "base_uri": "https://localhost:8080/",
          "height": 35
        },
        "id": "ErPIwRGIk7cs",
        "outputId": "974de562-849b-41c2-9e29-bb8c369cbe83"
      },
      "execution_count": 23,
      "outputs": [
        {
          "output_type": "execute_result",
          "data": {
            "text/plain": [
              "'go'"
            ],
            "application/vnd.google.colaboratory.intrinsic+json": {
              "type": "string"
            }
          },
          "metadata": {},
          "execution_count": 23
        }
      ]
    },
    {
      "cell_type": "code",
      "source": [
        "w2.lemmatize('v')"
      ],
      "metadata": {
        "colab": {
          "base_uri": "https://localhost:8080/",
          "height": 35
        },
        "id": "Enbu6x8FlCav",
        "outputId": "0e013bf2-b11a-47ac-dd1f-58ebae08e837"
      },
      "execution_count": 24,
      "outputs": [
        {
          "output_type": "execute_result",
          "data": {
            "text/plain": [
              "'go'"
            ],
            "application/vnd.google.colaboratory.intrinsic+json": {
              "type": "string"
            }
          },
          "metadata": {},
          "execution_count": 24
        }
      ]
    },
    {
      "cell_type": "code",
      "source": [
        "pip install textblob==0.9.0"
      ],
      "metadata": {
        "colab": {
          "base_uri": "https://localhost:8080/"
        },
        "id": "hnG7tTk4Us02",
        "outputId": "ffcad879-e75f-4bd5-a0a8-ebfe51630c4e"
      },
      "execution_count": 25,
      "outputs": [
        {
          "output_type": "stream",
          "name": "stdout",
          "text": [
            "Requirement already satisfied: textblob==0.9.0 in /usr/local/lib/python3.10/dist-packages (0.9.0)\n",
            "Requirement already satisfied: nltk>=3.0 in /usr/local/lib/python3.10/dist-packages (from textblob==0.9.0) (3.8.1)\n",
            "Requirement already satisfied: click in /usr/local/lib/python3.10/dist-packages (from nltk>=3.0->textblob==0.9.0) (8.1.6)\n",
            "Requirement already satisfied: joblib in /usr/local/lib/python3.10/dist-packages (from nltk>=3.0->textblob==0.9.0) (1.3.1)\n",
            "Requirement already satisfied: regex>=2021.8.3 in /usr/local/lib/python3.10/dist-packages (from nltk>=3.0->textblob==0.9.0) (2022.10.31)\n",
            "Requirement already satisfied: tqdm in /usr/local/lib/python3.10/dist-packages (from nltk>=3.0->textblob==0.9.0) (4.65.0)\n"
          ]
        }
      ]
    },
    {
      "cell_type": "code",
      "source": [
        "paragraph = TextBlob(\"The SCES, which had 28 members, including 10 non-official members, was also chaired by Mr. Sen. The panel was mandated to review the framework for economic indicators pertaining to the industrial sector, the services sector and the labour force statistics. This meant that their purview was limited to datasets like the Periodic Labour Force Survey, the Annual Survey of Industries, the Index of Industrial Production and the Economic Census.\")\n",
        ""
      ],
      "metadata": {
        "id": "EK0eeOCfZIbG"
      },
      "execution_count": 26,
      "outputs": []
    },
    {
      "cell_type": "code",
      "source": [
        "paragraph"
      ],
      "metadata": {
        "colab": {
          "base_uri": "https://localhost:8080/"
        },
        "id": "3WxF0cqSZSgl",
        "outputId": "1f77ba12-610c-4134-ca37-89df5f397f48"
      },
      "execution_count": 27,
      "outputs": [
        {
          "output_type": "execute_result",
          "data": {
            "text/plain": [
              "TextBlob(\"The SCES, which had 28 members, including 10 non-official members, was also chaired by Mr. Sen. The panel was mandated to review the framework for economic indicators pertaining to the industrial sector, the services sector and the labour force statistics. This meant that their purview was limited to datasets like the Periodic Labour Force Survey, the Annual Survey of Industries, the Index of Industrial Production and the Economic Census.\")"
            ]
          },
          "metadata": {},
          "execution_count": 27
        }
      ]
    },
    {
      "cell_type": "code",
      "source": [
        "# Gives what parts of speech\n",
        "paragraph.tags"
      ],
      "metadata": {
        "colab": {
          "base_uri": "https://localhost:8080/"
        },
        "id": "JGrIS1OVZW_T",
        "outputId": "75a25a57-9bce-43aa-b53a-ee81261d4c82"
      },
      "execution_count": 30,
      "outputs": [
        {
          "output_type": "execute_result",
          "data": {
            "text/plain": [
              "[('The', 'DT'),\n",
              " ('SCES', 'NN'),\n",
              " ('which', 'WDT'),\n",
              " ('had', 'VBD'),\n",
              " ('28', 'CD'),\n",
              " ('members', 'NNS'),\n",
              " ('including', 'VBG'),\n",
              " ('10', 'CD'),\n",
              " ('non-official', 'JJ'),\n",
              " ('members', 'NNS'),\n",
              " ('was', 'VBD'),\n",
              " ('also', 'RB'),\n",
              " ('chaired', 'VBN'),\n",
              " ('by', 'IN'),\n",
              " ('Mr.', 'NNP'),\n",
              " ('Sen', 'NNP'),\n",
              " ('The', 'DT'),\n",
              " ('panel', 'NN'),\n",
              " ('was', 'VBD'),\n",
              " ('mandated', 'VBN'),\n",
              " ('to', 'TO'),\n",
              " ('review', 'NN'),\n",
              " ('the', 'DT'),\n",
              " ('framework', 'NN'),\n",
              " ('for', 'IN'),\n",
              " ('economic', 'JJ'),\n",
              " ('indicators', 'NNS'),\n",
              " ('pertaining', 'VBG'),\n",
              " ('to', 'TO'),\n",
              " ('the', 'DT'),\n",
              " ('industrial', 'JJ'),\n",
              " ('sector', 'NN'),\n",
              " ('the', 'DT'),\n",
              " ('services', 'NNS'),\n",
              " ('sector', 'NN'),\n",
              " ('and', 'CC'),\n",
              " ('the', 'DT'),\n",
              " ('labour', 'NN'),\n",
              " ('force', 'NN'),\n",
              " ('statistics', 'NNS'),\n",
              " ('This', 'DT'),\n",
              " ('meant', 'VBD'),\n",
              " ('that', 'IN'),\n",
              " ('their', 'PRP$'),\n",
              " ('purview', 'NN'),\n",
              " ('was', 'VBD'),\n",
              " ('limited', 'JJ'),\n",
              " ('to', 'TO'),\n",
              " ('datasets', 'NNS'),\n",
              " ('like', 'IN'),\n",
              " ('the', 'DT'),\n",
              " ('Periodic', 'JJ'),\n",
              " ('Labour', 'NNP'),\n",
              " ('Force', 'NNP'),\n",
              " ('Survey', 'NNP'),\n",
              " ('the', 'DT'),\n",
              " ('Annual', 'JJ'),\n",
              " ('Survey', 'NNP'),\n",
              " ('of', 'IN'),\n",
              " ('Industries', 'NNPS'),\n",
              " ('the', 'DT'),\n",
              " ('Index', 'NNP'),\n",
              " ('of', 'IN'),\n",
              " ('Industrial', 'NNP'),\n",
              " ('Production', 'NN'),\n",
              " ('and', 'CC'),\n",
              " ('the', 'DT'),\n",
              " ('Economic', 'NNP'),\n",
              " ('Census', 'NNP')]"
            ]
          },
          "metadata": {},
          "execution_count": 30
        }
      ]
    },
    {
      "cell_type": "code",
      "source": [
        "for word, pos in paragraph.tags:\n",
        "  print(word + \"==>\" +pos)"
      ],
      "metadata": {
        "colab": {
          "base_uri": "https://localhost:8080/"
        },
        "id": "CXnjPbCqQjv3",
        "outputId": "d780a32b-78fb-4d7d-a771-44cb6a87f6ad"
      },
      "execution_count": 31,
      "outputs": [
        {
          "output_type": "stream",
          "name": "stdout",
          "text": [
            "The==>DT\n",
            "SCES==>NN\n",
            "which==>WDT\n",
            "had==>VBD\n",
            "28==>CD\n",
            "members==>NNS\n",
            "including==>VBG\n",
            "10==>CD\n",
            "non-official==>JJ\n",
            "members==>NNS\n",
            "was==>VBD\n",
            "also==>RB\n",
            "chaired==>VBN\n",
            "by==>IN\n",
            "Mr.==>NNP\n",
            "Sen==>NNP\n",
            "The==>DT\n",
            "panel==>NN\n",
            "was==>VBD\n",
            "mandated==>VBN\n",
            "to==>TO\n",
            "review==>NN\n",
            "the==>DT\n",
            "framework==>NN\n",
            "for==>IN\n",
            "economic==>JJ\n",
            "indicators==>NNS\n",
            "pertaining==>VBG\n",
            "to==>TO\n",
            "the==>DT\n",
            "industrial==>JJ\n",
            "sector==>NN\n",
            "the==>DT\n",
            "services==>NNS\n",
            "sector==>NN\n",
            "and==>CC\n",
            "the==>DT\n",
            "labour==>NN\n",
            "force==>NN\n",
            "statistics==>NNS\n",
            "This==>DT\n",
            "meant==>VBD\n",
            "that==>IN\n",
            "their==>PRP$\n",
            "purview==>NN\n",
            "was==>VBD\n",
            "limited==>JJ\n",
            "to==>TO\n",
            "datasets==>NNS\n",
            "like==>IN\n",
            "the==>DT\n",
            "Periodic==>JJ\n",
            "Labour==>NNP\n",
            "Force==>NNP\n",
            "Survey==>NNP\n",
            "the==>DT\n",
            "Annual==>JJ\n",
            "Survey==>NNP\n",
            "of==>IN\n",
            "Industries==>NNPS\n",
            "the==>DT\n",
            "Index==>NNP\n",
            "of==>IN\n",
            "Industrial==>NNP\n",
            "Production==>NN\n",
            "and==>CC\n",
            "the==>DT\n",
            "Economic==>NNP\n",
            "Census==>NNP\n"
          ]
        }
      ]
    },
    {
      "cell_type": "code",
      "source": [
        "my_sentence = TextBlob(\"I havv goood knowldge about python\")"
      ],
      "metadata": {
        "id": "m2jPTHXgaw1h"
      },
      "execution_count": 32,
      "outputs": []
    },
    {
      "cell_type": "code",
      "source": [
        "# Correct spellings\n",
        "print(my_sentence.correct())"
      ],
      "metadata": {
        "colab": {
          "base_uri": "https://localhost:8080/"
        },
        "id": "_4q37ewtaynb",
        "outputId": "f0fbb438-b52f-4e3f-9acf-bdd3cb4dc359"
      },
      "execution_count": 35,
      "outputs": [
        {
          "output_type": "stream",
          "name": "stdout",
          "text": [
            "\n"
          ]
        }
      ]
    },
    {
      "cell_type": "markdown",
      "source": [
        "TF-IDF"
      ],
      "metadata": {
        "id": "7dRV8irEaGnI"
      }
    },
    {
      "cell_type": "code",
      "source": [
        "# Term frequency-inverse document frequency"
      ],
      "metadata": {
        "id": "TycbNWCFaKYT"
      },
      "execution_count": 36,
      "outputs": []
    },
    {
      "cell_type": "code",
      "source": [
        "import nltk"
      ],
      "metadata": {
        "id": "bOGWG7Z7fCWi"
      },
      "execution_count": 37,
      "outputs": []
    },
    {
      "cell_type": "code",
      "source": [
        "paragraph = \"Term Frequency-Inverse Document Frequency (TF-IDF) is a numerical statistic used in natural language processing and information retrieval to evaluate the importance of a term within a document or a collection of documents.TF-IDF combines two factors: term frequency (TF) and inverse document frequency (IDF). Term frequency measures the frequency of a term within a document, while inverse document frequency measures how rare or common a term is across all documents in a collection.The TF-IDF value for a term in a document increases proportionally to the number of times it appears in the document (term frequency) but is offset by the rarity of the term in the entire collection of documents (inverse document frequency). This helps to identify important terms that are frequent within a document but relatively rare across other documents.The TF-IDF calculation is performed by multiplying the term frequency (TF) by the inverse document frequency (IDF). The resulting value represents the relevance or significance of a term in a specific document.TF-IDF is commonly used for tasks such as information retrieval, text mining, and document classification. It allows for the extraction of important keywords and the ranking of documents based on their relevance to a given query or topic.\"\n",
        ""
      ],
      "metadata": {
        "id": "un28sSn2fOyP"
      },
      "execution_count": 38,
      "outputs": []
    },
    {
      "cell_type": "code",
      "source": [
        "paragraph\n",
        ""
      ],
      "metadata": {
        "colab": {
          "base_uri": "https://localhost:8080/",
          "height": 140
        },
        "id": "T17jjOlefWfT",
        "outputId": "5d12872b-85ae-458e-ac52-5de47127a9cc"
      },
      "execution_count": 39,
      "outputs": [
        {
          "output_type": "execute_result",
          "data": {
            "text/plain": [
              "'Term Frequency-Inverse Document Frequency (TF-IDF) is a numerical statistic used in natural language processing and information retrieval to evaluate the importance of a term within a document or a collection of documents.TF-IDF combines two factors: term frequency (TF) and inverse document frequency (IDF). Term frequency measures the frequency of a term within a document, while inverse document frequency measures how rare or common a term is across all documents in a collection.The TF-IDF value for a term in a document increases proportionally to the number of times it appears in the document (term frequency) but is offset by the rarity of the term in the entire collection of documents (inverse document frequency). This helps to identify important terms that are frequent within a document but relatively rare across other documents.The TF-IDF calculation is performed by multiplying the term frequency (TF) by the inverse document frequency (IDF). The resulting value represents the relevance or significance of a term in a specific document.TF-IDF is commonly used for tasks such as information retrieval, text mining, and document classification. It allows for the extraction of important keywords and the ranking of documents based on their relevance to a given query or topic.'"
            ],
            "application/vnd.google.colaboratory.intrinsic+json": {
              "type": "string"
            }
          },
          "metadata": {},
          "execution_count": 39
        }
      ]
    },
    {
      "cell_type": "code",
      "source": [
        "# Preprocessing / clean the text"
      ],
      "metadata": {
        "id": "weGLSt6wfZgj"
      },
      "execution_count": 40,
      "outputs": []
    },
    {
      "cell_type": "code",
      "source": [
        "import nltk\n",
        "nltk.download('stopwords')\n",
        "import re\n",
        "from nltk.corpus import stopwords\n",
        "from nltk.stem import WordNetLemmatizer\n",
        "lemme = WordNetLemmatizer()\n",
        "\n",
        "\n",
        "sentences = nltk.sent_tokenize(paragraph)\n",
        "\n",
        "corpus = []\n",
        "\n",
        "for i in range(len(sentences)):\n",
        "  review = re.sub('[^a-zA-Z]',' ',sentences[i])\n",
        "  review = review.lower()\n",
        "  review = review.split()\n",
        "  review = [lemme.lemmatize(word) for word in review if not word in set(stopwords.words('english'))]\n",
        "  review = ' '.join(review)\n",
        "  corpus.append(review)\n"
      ],
      "metadata": {
        "colab": {
          "base_uri": "https://localhost:8080/"
        },
        "id": "Ilc7_rOifqx3",
        "outputId": "3d1e8e5d-a215-4d83-fbb7-cf344ed29dd6"
      },
      "execution_count": 47,
      "outputs": [
        {
          "output_type": "stream",
          "name": "stderr",
          "text": [
            "[nltk_data] Downloading package stopwords to /root/nltk_data...\n",
            "[nltk_data]   Package stopwords is already up-to-date!\n"
          ]
        }
      ]
    },
    {
      "cell_type": "code",
      "source": [
        "corpus"
      ],
      "metadata": {
        "colab": {
          "base_uri": "https://localhost:8080/"
        },
        "id": "ek3c-ybwgGHJ",
        "outputId": "87016ce1-d412-4a3c-eff8-21488a3d31fa"
      },
      "execution_count": 48,
      "outputs": [
        {
          "output_type": "execute_result",
          "data": {
            "text/plain": [
              "['term frequency inverse document frequency tf idf numerical statistic used natural language processing information retrieval evaluate importance term within document collection document tf idf combine two factor term frequency tf inverse document frequency idf',\n",
              " 'term frequency measure frequency term within document inverse document frequency measure rare common term across document collection tf idf value term document increase proportionally number time appears document term frequency offset rarity term entire collection document inverse document frequency',\n",
              " 'help identify important term frequent within document relatively rare across document tf idf calculation performed multiplying term frequency tf inverse document frequency idf',\n",
              " 'resulting value represents relevance significance term specific document tf idf commonly used task information retrieval text mining document classification',\n",
              " 'allows extraction important keywords ranking document based relevance given query topic']"
            ]
          },
          "metadata": {},
          "execution_count": 48
        }
      ]
    },
    {
      "cell_type": "code",
      "source": [
        "# Apply TF-idf Model"
      ],
      "metadata": {
        "id": "bP_IAiz_hLG-"
      },
      "execution_count": 49,
      "outputs": []
    },
    {
      "cell_type": "code",
      "source": [
        "from sklearn.feature_extraction.text import TfidfVectorizer\n",
        "tfidf_vector =TfidfVectorizer()\n",
        "x =tfidf_vector.fit_transform(corpus).toarray()\n"
      ],
      "metadata": {
        "id": "ZDBCIHB1hPwS"
      },
      "execution_count": 51,
      "outputs": []
    },
    {
      "cell_type": "code",
      "source": [
        "x"
      ],
      "metadata": {
        "colab": {
          "base_uri": "https://localhost:8080/"
        },
        "id": "mXvpN8N-h3gS",
        "outputId": "e1a7c52b-dd50-4b92-8144-0463f16623a6"
      },
      "execution_count": 52,
      "outputs": [
        {
          "output_type": "execute_result",
          "data": {
            "text/plain": [
              "array([[0.        , 0.        , 0.        , 0.        , 0.        ,\n",
              "        0.        , 0.13790808, 0.17093351, 0.        , 0.        ,\n",
              "        0.32580293, 0.        , 0.17093351, 0.        , 0.17093351,\n",
              "        0.45790466, 0.        , 0.        , 0.        , 0.        ,\n",
              "        0.28890287, 0.17093351, 0.        , 0.        , 0.13790808,\n",
              "        0.22895233, 0.        , 0.17093351, 0.        , 0.        ,\n",
              "        0.        , 0.17093351, 0.        , 0.17093351, 0.        ,\n",
              "        0.        , 0.17093351, 0.        , 0.        , 0.        ,\n",
              "        0.        , 0.        , 0.        , 0.        , 0.        ,\n",
              "        0.        , 0.13790808, 0.        , 0.        , 0.17093351,\n",
              "        0.        , 0.28890287, 0.        , 0.28890287, 0.        ,\n",
              "        0.        , 0.17093351, 0.13790808, 0.        , 0.11447616],\n",
              "       [0.10958915, 0.        , 0.13583292, 0.        , 0.        ,\n",
              "        0.        , 0.21917829, 0.        , 0.13583292, 0.        ,\n",
              "        0.45307581, 0.13583292, 0.        , 0.        , 0.        ,\n",
              "        0.45484445, 0.        , 0.        , 0.        , 0.        ,\n",
              "        0.0765259 , 0.        , 0.        , 0.13583292, 0.        ,\n",
              "        0.18193778, 0.        , 0.        , 0.27166584, 0.        ,\n",
              "        0.        , 0.        , 0.13583292, 0.        , 0.13583292,\n",
              "        0.        , 0.        , 0.13583292, 0.        , 0.        ,\n",
              "        0.10958915, 0.13583292, 0.        , 0.        , 0.        ,\n",
              "        0.        , 0.        , 0.        , 0.        , 0.        ,\n",
              "        0.        , 0.45915539, 0.        , 0.0765259 , 0.13583292,\n",
              "        0.        , 0.        , 0.        , 0.10958915, 0.09096889],\n",
              "       [0.19288183, 0.        , 0.        , 0.        , 0.23907205,\n",
              "        0.        , 0.        , 0.        , 0.        , 0.        ,\n",
              "        0.34175734, 0.        , 0.        , 0.        , 0.        ,\n",
              "        0.32021868, 0.23907205, 0.        , 0.23907205, 0.23907205,\n",
              "        0.26937805, 0.        , 0.19288183, 0.        , 0.        ,\n",
              "        0.16010934, 0.        , 0.        , 0.        , 0.        ,\n",
              "        0.23907205, 0.        , 0.        , 0.        , 0.        ,\n",
              "        0.23907205, 0.        , 0.        , 0.        , 0.        ,\n",
              "        0.19288183, 0.        , 0.23907205, 0.        , 0.        ,\n",
              "        0.        , 0.        , 0.        , 0.        , 0.        ,\n",
              "        0.        , 0.26937805, 0.        , 0.26937805, 0.        ,\n",
              "        0.        , 0.        , 0.        , 0.        , 0.16010934],\n",
              "       [0.        , 0.        , 0.        , 0.        , 0.        ,\n",
              "        0.26617019, 0.        , 0.        , 0.        , 0.26617019,\n",
              "        0.25366304, 0.        , 0.        , 0.        , 0.        ,\n",
              "        0.        , 0.        , 0.        , 0.        , 0.        ,\n",
              "        0.14995564, 0.        , 0.        , 0.        , 0.21474443,\n",
              "        0.        , 0.        , 0.        , 0.        , 0.26617019,\n",
              "        0.        , 0.        , 0.        , 0.        , 0.        ,\n",
              "        0.        , 0.        , 0.        , 0.        , 0.        ,\n",
              "        0.        , 0.        , 0.        , 0.21474443, 0.26617019,\n",
              "        0.26617019, 0.21474443, 0.26617019, 0.26617019, 0.        ,\n",
              "        0.26617019, 0.14995564, 0.26617019, 0.14995564, 0.        ,\n",
              "        0.        , 0.        , 0.21474443, 0.21474443, 0.        ],\n",
              "       [0.        , 0.32395065, 0.        , 0.32395065, 0.        ,\n",
              "        0.        , 0.        , 0.        , 0.        , 0.        ,\n",
              "        0.15436422, 0.        , 0.        , 0.32395065, 0.        ,\n",
              "        0.        , 0.        , 0.32395065, 0.        , 0.        ,\n",
              "        0.        , 0.        , 0.26136134, 0.        , 0.        ,\n",
              "        0.        , 0.32395065, 0.        , 0.        , 0.        ,\n",
              "        0.        , 0.        , 0.        , 0.        , 0.        ,\n",
              "        0.        , 0.        , 0.        , 0.32395065, 0.32395065,\n",
              "        0.        , 0.        , 0.        , 0.26136134, 0.        ,\n",
              "        0.        , 0.        , 0.        , 0.        , 0.        ,\n",
              "        0.        , 0.        , 0.        , 0.        , 0.        ,\n",
              "        0.32395065, 0.        , 0.        , 0.        , 0.        ]])"
            ]
          },
          "metadata": {},
          "execution_count": 52
        }
      ]
    }
  ]
}